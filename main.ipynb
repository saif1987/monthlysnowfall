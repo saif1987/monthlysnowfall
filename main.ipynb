{
 "cells": [
  {
   "cell_type": "markdown",
   "metadata": {},
   "source": [
    "# This is a code for learning plotly"
   ]
  },
  {
   "cell_type": "code",
   "execution_count": 15,
   "metadata": {},
   "outputs": [],
   "source": [
    "import pandas as pd\n",
    "import plotly.express as px\n",
    "import plotly.graph_objects as go\n",
    "import plotly.io as pio\n",
    "import numpy as np\n",
    "pd.options.plotting.backend = \"plotly\"\n",
    "pio.templates.default='none'"
   ]
  },
  {
   "cell_type": "code",
   "execution_count": 16,
   "metadata": {},
   "outputs": [
    {
     "name": "stdout",
     "output_type": "stream",
     "text": [
      "           Jul  Aug  Sep  Oct  Nov   Dec   Jan   Feb   Mar  Apr  May  Jun\n",
      "Year                                                                     \n",
      "1999-2000  0.0  0.0  0.0  0.0  0.0   4.7   8.8   0.6   0.0  0.0  0.0  0.0\n",
      "2000-2001  0.0  0.0  0.0  0.0  0.0  21.2   5.1   1.8   2.1  0.0  0.0  0.0\n",
      "2001-2002  0.0  0.0  0.0  0.0  0.0   0.4   2.4   1.4   7.5  0.0  0.0  0.0\n",
      "2002-2003  0.0  0.0  0.0  0.0  0.0   3.3   6.3   7.9   1.3  0.4  0.0  0.0\n",
      "2003-2004  0.0  0.0  0.0  0.0  0.0   7.3   8.4   4.1   3.4  0.0  0.0  0.0\n",
      "2004-2005  0.0  0.0  0.0  0.0  7.9   0.0   6.2   2.1   1.6  0.0  0.0  0.0\n",
      "2005-2006  0.0  0.0  0.0  0.0  0.0  11.3   1.0   0.0   6.0  0.0  0.0  0.0\n",
      "2006-2007  0.0  0.0  0.0  0.0  1.3   7.5   2.2  13.3   0.0  0.0  0.0  0.0\n",
      "2007-2008  0.0  0.0  0.0  0.0  0.0  10.5   6.2  17.0   0.0  0.0  0.0  0.0\n",
      "2008-2009  0.0  0.0  0.0  0.0  4.6   5.3  12.9   3.5   4.9  1.8  0.0  0.0\n",
      "2009-2010  0.0  0.0  0.0  0.0  0.0  14.6   8.6  18.3   0.9  0.0  0.0  0.0\n",
      "2010-2011  0.0  0.0  0.0  0.0  0.0  19.2  12.4  20.9   0.0  0.0  0.0  0.0\n",
      "2011-2012  0.0  0.0  0.0  0.0  0.0   0.6   7.9   1.9   1.1  0.0  0.0  0.0\n",
      "2012-2013  0.0  0.0  0.0  0.0  0.0   3.2   0.4   8.3  10.8  0.0  0.0  0.0\n",
      "2013-2014  0.0  0.0  0.0  0.0  0.6   8.5  18.2  22.9   7.1  0.3  0.0  0.0\n",
      "2014-2015  0.0  0.0  0.0  0.0  1.3   0.0  10.2  12.8   2.7  0.0  0.0  0.0\n",
      "2015-2016  0.0  0.0  0.0  0.0  4.6   2.5   5.2   2.8   0.2  0.0  0.0  0.0\n",
      "2016-2017  0.0  0.0  0.0  0.0  0.0   5.5   0.5   3.7   4.2  0.0  0.0  0.0\n",
      "2017-2018  0.0  0.0  0.0  0.0  0.0   7.4   3.5   9.4   9.3  2.5  0.0  0.0\n",
      "2018-2019  0.0  0.0  0.0  0.0  9.8   0.4  17.9   2.5   0.8  5.0  0.0  0.0\n",
      "2019-2020  0.0  0.0  0.0  4.2  1.8   4.1  10.0  11.0   1.9  2.9  0.0  0.0\n",
      "2020-2021  0.0  0.0  0.0  0.0  0.2   1.0   8.5  14.7   0.0  0.9  0.0  0.0\n",
      "2021-2022  0.0  0.0  0.0  0.0  0.0   2.8   5.9  19.2   3.5  0.0  0.0  0.0\n",
      "2022-2023  0.0  0.0  0.0  0.0  2.8   4.0   8.6   0.1   3.1  0.0  0.0  0.0\n",
      "2023-2024  0.0  0.0  0.0  0.0  4.1   0.9   0.0   0.0   0.0  0.0  0.0  0.0\n"
     ]
    }
   ],
   "source": [
    "\n",
    "snowdat = pd.read_csv('monthly_snowfall.csv',delimiter=' ',header=1)\n",
    "snowdat = snowdat.replace({'T':0.0,'M':0.0})\n",
    "snowtot = snowdat.iloc[:-3,0:13] \n",
    "snowtot.set_index(\"Year\",inplace=True)\n",
    "# snowtot.iloc[-1,'Jan'] = 12.1\n",
    "print(snowtot)\n"
   ]
  },
  {
   "cell_type": "code",
   "execution_count": 17,
   "metadata": {},
   "outputs": [
    {
     "name": "stdout",
     "output_type": "stream",
     "text": [
      "           Jul  Aug  Sep  Oct  Nov   Dec   Jan   Feb   Mar  Apr  May  Jun\n",
      "Year                                                                     \n",
      "1999-2000  0.0  0.0  0.0  0.0  0.0   4.7   8.8   0.6   0.0  0.0  0.0  0.0\n",
      "2000-2001  0.0  0.0  0.0  0.0  0.0  21.2   5.1   1.8   2.1  0.0  0.0  0.0\n",
      "2001-2002  0.0  0.0  0.0  0.0  0.0   0.4   2.4   1.4   7.5  0.0  0.0  0.0\n",
      "2002-2003  0.0  0.0  0.0  0.0  0.0   3.3   6.3   7.9   1.3  0.4  0.0  0.0\n",
      "2003-2004  0.0  0.0  0.0  0.0  0.0   7.3   8.4   4.1   3.4  0.0  0.0  0.0\n",
      "2004-2005  0.0  0.0  0.0  0.0  7.9   0.0   6.2   2.1   1.6  0.0  0.0  0.0\n",
      "2005-2006  0.0  0.0  0.0  0.0  0.0  11.3   1.0   0.0   6.0  0.0  0.0  0.0\n",
      "2006-2007  0.0  0.0  0.0  0.0  1.3   7.5   2.2  13.3   0.0  0.0  0.0  0.0\n",
      "2007-2008  0.0  0.0  0.0  0.0  0.0  10.5   6.2  17.0   0.0  0.0  0.0  0.0\n",
      "2008-2009  0.0  0.0  0.0  0.0  4.6   5.3  12.9   3.5   4.9  1.8  0.0  0.0\n",
      "2009-2010  0.0  0.0  0.0  0.0  0.0  14.6   8.6  18.3   0.9  0.0  0.0  0.0\n",
      "2010-2011  0.0  0.0  0.0  0.0  0.0  19.2  12.4  20.9   0.0  0.0  0.0  0.0\n",
      "2011-2012  0.0  0.0  0.0  0.0  0.0   0.6   7.9   1.9   1.1  0.0  0.0  0.0\n",
      "2012-2013  0.0  0.0  0.0  0.0  0.0   3.2   0.4   8.3  10.8  0.0  0.0  0.0\n",
      "2013-2014  0.0  0.0  0.0  0.0  0.6   8.5  18.2  22.9   7.1  0.3  0.0  0.0\n",
      "2014-2015  0.0  0.0  0.0  0.0  1.3   0.0  10.2  12.8   2.7  0.0  0.0  0.0\n",
      "2015-2016  0.0  0.0  0.0  0.0  4.6   2.5   5.2   2.8   0.2  0.0  0.0  0.0\n",
      "2016-2017  0.0  0.0  0.0  0.0  0.0   5.5   0.5   3.7   4.2  0.0  0.0  0.0\n",
      "2017-2018  0.0  0.0  0.0  0.0  0.0   7.4   3.5   9.4   9.3  2.5  0.0  0.0\n",
      "2018-2019  0.0  0.0  0.0  0.0  9.8   0.4  17.9   2.5   0.8  5.0  0.0  0.0\n",
      "2019-2020  0.0  0.0  0.0  4.2  1.8   4.1  10.0  11.0   1.9  2.9  0.0  0.0\n",
      "2020-2021  0.0  0.0  0.0  0.0  0.2   1.0   8.5  14.7   0.0  0.9  0.0  0.0\n",
      "2021-2022  0.0  0.0  0.0  0.0  0.0   2.8   5.9  19.2   3.5  0.0  0.0  0.0\n",
      "2022-2023  0.0  0.0  0.0  0.0  2.8   4.0   8.6   0.1   3.1  0.0  0.0  0.0\n",
      "2023-2024  0.0  0.0  0.0  0.0  4.1   0.9  12.1   0.0   0.0  0.0  0.0  0.0\n"
     ]
    }
   ],
   "source": [
    "snowtot.at['2023-2024','Jan'] = 12.1\n",
    "print(snowtot)"
   ]
  },
  {
   "cell_type": "code",
   "execution_count": 18,
   "metadata": {},
   "outputs": [
    {
     "name": "stdout",
     "output_type": "stream",
     "text": [
      "           Jul  Aug  Sep  Oct  Nov   Dec   Jan   Feb   Mar   Apr   May   Jun\n",
      "Year                                                                        \n",
      "1999-2000  0.0  0.0  0.0  0.0  0.0   4.7  13.5  14.1  14.1  14.1  14.1  14.1\n",
      "2000-2001  0.0  0.0  0.0  0.0  0.0  21.2  26.3  28.1  30.2  30.2  30.2  30.2\n",
      "2001-2002  0.0  0.0  0.0  0.0  0.0   0.4   2.8   4.2  11.7  11.7  11.7  11.7\n",
      "2002-2003  0.0  0.0  0.0  0.0  0.0   3.3   9.6  17.5  18.8  19.2  19.2  19.2\n",
      "2003-2004  0.0  0.0  0.0  0.0  0.0   7.3  15.7  19.8  23.2  23.2  23.2  23.2\n",
      "2004-2005  0.0  0.0  0.0  0.0  7.9   7.9  14.1  16.2  17.8  17.8  17.8  17.8\n",
      "2005-2006  0.0  0.0  0.0  0.0  0.0  11.3  12.3  12.3  18.3  18.3  18.3  18.3\n",
      "2006-2007  0.0  0.0  0.0  0.0  1.3   8.8  11.0  24.3  24.3  24.3  24.3  24.3\n",
      "2007-2008  0.0  0.0  0.0  0.0  0.0  10.5  16.7  33.7  33.7  33.7  33.7  33.7\n",
      "2008-2009  0.0  0.0  0.0  0.0  4.6   9.9  22.8  26.3  31.2  33.0  33.0  33.0\n",
      "2009-2010  0.0  0.0  0.0  0.0  0.0  14.6  23.2  41.5  42.4  42.4  42.4  42.4\n",
      "2010-2011  0.0  0.0  0.0  0.0  0.0  19.2  31.6  52.5  52.5  52.5  52.5  52.5\n",
      "2011-2012  0.0  0.0  0.0  0.0  0.0   0.6   8.5  10.4  11.5  11.5  11.5  11.5\n",
      "2012-2013  0.0  0.0  0.0  0.0  0.0   3.2   3.6  11.9  22.7  22.7  22.7  22.7\n",
      "2013-2014  0.0  0.0  0.0  0.0  0.6   9.1  27.3  50.2  57.3  57.6  57.6  57.6\n",
      "2014-2015  0.0  0.0  0.0  0.0  1.3   1.3  11.5  24.3  27.0  27.0  27.0  27.0\n",
      "2015-2016  0.0  0.0  0.0  0.0  4.6   7.1  12.3  15.1  15.3  15.3  15.3  15.3\n",
      "2016-2017  0.0  0.0  0.0  0.0  0.0   5.5   6.0   9.7  13.9  13.9  13.9  13.9\n",
      "2017-2018  0.0  0.0  0.0  0.0  0.0   7.4  10.9  20.3  29.6  32.1  32.1  32.1\n",
      "2018-2019  0.0  0.0  0.0  0.0  9.8  10.2  28.1  30.6  31.4  36.4  36.4  36.4\n",
      "2019-2020  0.0  0.0  0.0  4.2  6.0  10.1  20.1  31.1  33.0  35.9  35.9  35.9\n",
      "2020-2021  0.0  0.0  0.0  0.0  0.2   1.2   9.7  24.4  24.4  25.3  25.3  25.3\n",
      "2021-2022  0.0  0.0  0.0  0.0  0.0   2.8   8.7  27.9  31.4  31.4  31.4  31.4\n",
      "2022-2023  0.0  0.0  0.0  0.0  2.8   6.8  15.4  15.5  18.6  18.6  18.6  18.6\n",
      "2023-2024  0.0  0.0  0.0  0.0  4.1   5.0  17.1  17.1  17.1  17.1  17.1  17.1\n"
     ]
    }
   ],
   "source": [
    "snowtot.iloc[:,1:13] = snowtot.iloc[:,1:13].astype(float).cumsum(axis=1)\n",
    "print(snowtot)"
   ]
  },
  {
   "cell_type": "code",
   "execution_count": 19,
   "metadata": {},
   "outputs": [
    {
     "name": "stdout",
     "output_type": "stream",
     "text": [
      "Jul       0.0\n",
      "Aug       0.0\n",
      "Sep       0.0\n",
      "Oct     0.168\n",
      "Nov     1.728\n",
      "Dec     7.576\n",
      "Jan    15.152\n",
      "Feb     23.16\n",
      "Mar    26.056\n",
      "Apr    26.608\n",
      "May    26.608\n",
      "Jun    26.608\n",
      "dtype: object\n"
     ]
    }
   ],
   "source": [
    "t_snow = snowtot.T\n",
    "t_mean= t_snow.mean(axis=1)\n",
    "t_max = t_snow.max(axis=1)\n",
    "t_min = t_snow.min(axis=1)\n",
    "t_snow[\"Mean\"]=t_mean\n",
    "t_snow[\"Minimum\"]=t_min\n",
    "t_snow[\"Maximum\"]=t_max\n",
    "\n",
    "# print(snowtot.T.iloc[0,:])\n",
    "# t_snow.columns= list(snowtot.T.iloc[0,:])\n",
    "print(t_mean)\n"
   ]
  },
  {
   "cell_type": "code",
   "execution_count": 22,
   "metadata": {},
   "outputs": [
    {
     "ename": "TypeError",
     "evalue": "invalid Figure property: template\ntemplate\nBad property path:\ntemplate\n^^^^^^^^",
     "output_type": "error",
     "traceback": [
      "\u001b[0;31m---------------------------------------------------------------------------\u001b[0m",
      "\u001b[0;31mTypeError\u001b[0m                                 Traceback (most recent call last)",
      "Cell \u001b[0;32mIn[22], line 9\u001b[0m\n\u001b[1;32m      5\u001b[0m fig4\u001b[38;5;241m=\u001b[39mpx\u001b[38;5;241m.\u001b[39mline(t_mean)\n\u001b[1;32m      7\u001b[0m \u001b[38;5;28;01mfor\u001b[39;00m template \u001b[38;5;129;01min\u001b[39;00m [\u001b[38;5;124m\"\u001b[39m\u001b[38;5;124mplotly\u001b[39m\u001b[38;5;124m\"\u001b[39m, \u001b[38;5;124m\"\u001b[39m\u001b[38;5;124mplotly_white\u001b[39m\u001b[38;5;124m\"\u001b[39m, \u001b[38;5;124m\"\u001b[39m\u001b[38;5;124mplotly_dark\u001b[39m\u001b[38;5;124m\"\u001b[39m, \u001b[38;5;124m\"\u001b[39m\u001b[38;5;124mggplot2\u001b[39m\u001b[38;5;124m\"\u001b[39m, \u001b[38;5;124m\"\u001b[39m\u001b[38;5;124mseaborn\u001b[39m\u001b[38;5;124m\"\u001b[39m, \u001b[38;5;124m\"\u001b[39m\u001b[38;5;124msimple_white\u001b[39m\u001b[38;5;124m\"\u001b[39m, \u001b[38;5;124m\"\u001b[39m\u001b[38;5;124mnone\u001b[39m\u001b[38;5;124m\"\u001b[39m]:\n\u001b[0;32m----> 9\u001b[0m     \u001b[43mgo\u001b[49m\u001b[38;5;241;43m.\u001b[39;49m\u001b[43mFigure\u001b[49m\u001b[43m(\u001b[49m\u001b[43mdata\u001b[49m\u001b[38;5;241;43m=\u001b[39;49m\u001b[43mfig1\u001b[49m\u001b[38;5;241;43m.\u001b[39;49m\u001b[43mdata\u001b[49m\u001b[43m,\u001b[49m\u001b[43m \u001b[49m\u001b[43mtemplate\u001b[49m\u001b[38;5;241;43m=\u001b[39;49m\u001b[43mtemplate\u001b[49m\u001b[43m)\u001b[49m\u001b[38;5;241m.\u001b[39mshow()\n",
      "File \u001b[0;32m~/.local/lib/python3.10/site-packages/plotly/graph_objs/_figure.py:629\u001b[0m, in \u001b[0;36mFigure.__init__\u001b[0;34m(self, data, layout, frames, skip_invalid, **kwargs)\u001b[0m\n\u001b[1;32m      5\u001b[0m \u001b[38;5;28;01mdef\u001b[39;00m \u001b[38;5;21m__init__\u001b[39m(\n\u001b[1;32m      6\u001b[0m     \u001b[38;5;28mself\u001b[39m, data\u001b[38;5;241m=\u001b[39m\u001b[38;5;28;01mNone\u001b[39;00m, layout\u001b[38;5;241m=\u001b[39m\u001b[38;5;28;01mNone\u001b[39;00m, frames\u001b[38;5;241m=\u001b[39m\u001b[38;5;28;01mNone\u001b[39;00m, skip_invalid\u001b[38;5;241m=\u001b[39m\u001b[38;5;28;01mFalse\u001b[39;00m, \u001b[38;5;241m*\u001b[39m\u001b[38;5;241m*\u001b[39mkwargs\n\u001b[1;32m      7\u001b[0m ):\n\u001b[1;32m      8\u001b[0m     \u001b[38;5;124;03m\"\"\"\u001b[39;00m\n\u001b[1;32m      9\u001b[0m \u001b[38;5;124;03m    Create a new :class:Figure instance\u001b[39;00m\n\u001b[1;32m     10\u001b[0m \n\u001b[0;32m   (...)\u001b[0m\n\u001b[1;32m    627\u001b[0m \u001b[38;5;124;03m        is invalid AND skip_invalid is False\u001b[39;00m\n\u001b[1;32m    628\u001b[0m \u001b[38;5;124;03m    \"\"\"\u001b[39;00m\n\u001b[0;32m--> 629\u001b[0m     \u001b[38;5;28;43msuper\u001b[39;49m\u001b[43m(\u001b[49m\u001b[43mFigure\u001b[49m\u001b[43m,\u001b[49m\u001b[43m \u001b[49m\u001b[38;5;28;43mself\u001b[39;49m\u001b[43m)\u001b[49m\u001b[38;5;241;43m.\u001b[39;49m\u001b[38;5;21;43m__init__\u001b[39;49m\u001b[43m(\u001b[49m\u001b[43mdata\u001b[49m\u001b[43m,\u001b[49m\u001b[43m \u001b[49m\u001b[43mlayout\u001b[49m\u001b[43m,\u001b[49m\u001b[43m \u001b[49m\u001b[43mframes\u001b[49m\u001b[43m,\u001b[49m\u001b[43m \u001b[49m\u001b[43mskip_invalid\u001b[49m\u001b[43m,\u001b[49m\u001b[43m \u001b[49m\u001b[38;5;241;43m*\u001b[39;49m\u001b[38;5;241;43m*\u001b[39;49m\u001b[43mkwargs\u001b[49m\u001b[43m)\u001b[49m\n",
      "File \u001b[0;32m~/.local/lib/python3.10/site-packages/plotly/basedatatypes.py:645\u001b[0m, in \u001b[0;36mBaseFigure.__init__\u001b[0;34m(self, data, layout_plotly, frames, skip_invalid, **kwargs)\u001b[0m\n\u001b[1;32m    638\u001b[0m                 type_err \u001b[38;5;241m=\u001b[39m \u001b[38;5;167;01mTypeError\u001b[39;00m(\u001b[38;5;124m\"\u001b[39m\u001b[38;5;124minvalid Figure property: \u001b[39m\u001b[38;5;132;01m{}\u001b[39;00m\u001b[38;5;124m\"\u001b[39m\u001b[38;5;241m.\u001b[39mformat(k))\n\u001b[1;32m    639\u001b[0m                 type_err\u001b[38;5;241m.\u001b[39margs \u001b[38;5;241m=\u001b[39m (\n\u001b[1;32m    640\u001b[0m                     type_err\u001b[38;5;241m.\u001b[39margs[\u001b[38;5;241m0\u001b[39m]\n\u001b[1;32m    641\u001b[0m                     \u001b[38;5;241m+\u001b[39m \u001b[38;5;124m\"\"\"\u001b[39m\n\u001b[1;32m    642\u001b[0m \u001b[38;5;132;01m%s\u001b[39;00m\u001b[38;5;124m\"\"\"\u001b[39m\n\u001b[1;32m    643\u001b[0m                     \u001b[38;5;241m%\u001b[39m (err\u001b[38;5;241m.\u001b[39margs[\u001b[38;5;241m0\u001b[39m],),\n\u001b[1;32m    644\u001b[0m                 )\n\u001b[0;32m--> 645\u001b[0m                 \u001b[38;5;28;01mraise\u001b[39;00m type_err\n",
      "\u001b[0;31mTypeError\u001b[0m: invalid Figure property: template\ntemplate\nBad property path:\ntemplate\n^^^^^^^^"
     ]
    }
   ],
   "source": [
    "\n",
    "fig1 = (t_snow.iloc[3:-2,-5-3::]).plot()\n",
    "\n",
    "fig= px.line(t_max)\n",
    "fig3=px.line(t_min)\n",
    "fig4=px.line(t_mean)\n",
    "\n",
    "\n",
    "for template in [\"plotly\", \"plotly_white\", \"plotly_dark\", \"ggplot2\", \"seaborn\", \"simple_white\", \"none\"]:\n",
    "\n",
    "    ff = go.Figure(data=fig1.data, template=template)\n",
    "    ff.show()\n"
   ]
  },
  {
   "cell_type": "code",
   "execution_count": 21,
   "metadata": {},
   "outputs": [
    {
     "name": "stdout",
     "output_type": "stream",
     "text": [
      "5.18.0\n"
     ]
    }
   ],
   "source": [
    "import plotly\n",
    "print(plotly.__version__)"
   ]
  },
  {
   "cell_type": "code",
   "execution_count": null,
   "metadata": {},
   "outputs": [],
   "source": []
  },
  {
   "cell_type": "markdown",
   "metadata": {},
   "source": []
  }
 ],
 "metadata": {
  "kernelspec": {
   "display_name": "Python 3",
   "language": "python",
   "name": "python3"
  },
  "language_info": {
   "codemirror_mode": {
    "name": "ipython",
    "version": 3
   },
   "file_extension": ".py",
   "mimetype": "text/x-python",
   "name": "python",
   "nbconvert_exporter": "python",
   "pygments_lexer": "ipython3",
   "version": "3.10.12"
  }
 },
 "nbformat": 4,
 "nbformat_minor": 2
}
